{
 "cells": [
  {
   "cell_type": "markdown",
   "metadata": {},
   "source": [
    "# Analysis title"
   ]
  },
  {
   "cell_type": "code",
   "execution_count": null,
   "metadata": {
    "collapsed": false
   },
   "outputs": [],
   "source": [
    "import ujson as json\n",
    "import matplotlib.pyplot as plt\n",
    "import pandas as pd\n",
    "import numpy as np\n",
    "import datetime\n",
    "from __future__ import division\n",
    "import feather\n",
    "from collections import defaultdict\n",
    "import sys\n",
    "\n",
    "%matplotlib inline\n",
    "\n",
    "## Append the path so the mozillametricstools package can be found.\n",
    "## This is included here as a temporary workaround.\n",
    "sys.path.append(\"/home/hadoop/git\")\n",
    "\n",
    "import mozillametricstools.common.functions as mmt\n",
    "import mozillametricstools.common.s3 as s3fun\n",
    "import mozillametricstools.users.dzeber.utils as mymmt\n",
    "import mozillametricstools.users.dzeber.display as disp\n",
    "\n",
    "## Make display tweaks for pandas output.\n",
    "disp.prettify_pandas()\n",
    "\n",
    "from moztelemetry.dataset import Dataset\n",
    "from moztelemetry.spark import get_pings_properties\n",
    "from pyspark.sql import Row\n",
    "import pyspark.sql.functions as fun\n",
    "from pyspark.sql.window import Window\n",
    "from pyspark.sql.types import *\n",
    "\n",
    "## Don't limit pandas display.\n",
    "pd.set_option(\"display.max_rows\", None)\n",
    "pd.set_option(\"display.max_columns\", None)"
   ]
  }
 ],
 "metadata": {
  "anaconda-cloud": {},
  "kernelspec": {
   "display_name": "Python [conda root]",
   "language": "python",
   "name": "conda-root-py"
  },
  "language_info": {
   "codemirror_mode": {
    "name": "ipython",
    "version": 2
   },
   "file_extension": ".py",
   "mimetype": "text/x-python",
   "name": "python",
   "nbconvert_exporter": "python",
   "pygments_lexer": "ipython2",
   "version": "2.7.12"
  }
 },
 "nbformat": 4,
 "nbformat_minor": 1
}
