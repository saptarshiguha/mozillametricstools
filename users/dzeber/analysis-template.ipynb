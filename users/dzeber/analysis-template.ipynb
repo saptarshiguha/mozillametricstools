{
 "cells": [
  {
   "cell_type": "markdown",
   "metadata": {},
   "source": [
    "# Analysis title"
   ]
  },
  {
   "cell_type": "code",
   "execution_count": null,
   "metadata": {
    "collapsed": false
   },
   "outputs": [],
   "source": [
    "import ujson as json\n",
    "import matplotlib.pyplot as plt\n",
    "import pandas as pd\n",
    "import numpy as np\n",
    "import datetime\n",
    "from __future__ import division\n",
    "import feather\n",
    "from collections import defaultdict\n",
    "import sys\n",
    "\n",
    "#%matplotlib inline\n",
    "from IPython.display import display as IPdisplay\n",
    "\n",
    "## Append the path so the mozillametricstools package can be found.\n",
    "## This is included here as a temporary workaround.\n",
    "sys.path.append(\"/home/hadoop/git\")\n",
    "\n",
    "import mozillametricstools.common.functions as mmt\n",
    "import mozillametricstools.common.s3 as s3fun\n",
    "import mozillametricstools.users.dzeber.utils as mymmt\n",
    "import mozillametricstools.users.dzeber.display as disp\n",
    "\n",
    "## Make display tweaks for pandas output.\n",
    "disp.prettify_pandas()\n",
    "\n",
    "from moztelemetry.dataset import Dataset\n",
    "from moztelemetry.hbase import HBaseMainSummaryView\n",
    "from moztelemetry.spark import get_pings_properties\n",
    "from pyspark.sql import Row\n",
    "import pyspark.sql.functions as fun\n",
    "from pyspark.sql.window import Window\n",
    "from pyspark.sql.types import *\n",
    "\n",
    "## If SparkSession `spark` is not pre-defined (as in IPython),\n",
    "## create one from the SparkContext.\n",
    "try:\n",
    "    spark.version\n",
    "except NameError:\n",
    "    from pyspark.sql import SparkSession\n",
    "    spark = SparkSession(sc)\n",
    "\n",
    "## Don't limit pandas display.\n",
    "pd.set_option(\"display.max_rows\", None)\n",
    "pd.set_option(\"display.max_columns\", None)\n",
    "pd.set_option(\"display.max_colwidth\", -1)\n",
    "## Wider plots\n",
    "plt.rcParams['figure.figsize'] = (8, 5)"
   ]
  }
 ],
 "metadata": {
  "anaconda-cloud": {},
  "kernelspec": {
   "display_name": "Python 2",
   "language": "python",
   "name": "python2"
  },
  "language_info": {
   "codemirror_mode": {
    "name": "ipython",
    "version": 2
   },
   "file_extension": ".py",
   "mimetype": "text/x-python",
   "name": "python",
   "nbconvert_exporter": "python",
   "pygments_lexer": "ipython2",
   "version": "2.7.13"
  }
 },
 "nbformat": 4,
 "nbformat_minor": 1
}
